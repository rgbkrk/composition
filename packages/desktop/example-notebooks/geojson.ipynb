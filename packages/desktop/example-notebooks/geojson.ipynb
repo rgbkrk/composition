{
  "cells": [
    {
      "cell_type": "code",
      "source": [
        "# With the release of IPython 6 (coming April 2017), there's a GeoJSON display class that allows you to visualize GeoJSON data quickly.\n",
        "# from IPython.display import GeoJSON\n",
        "# In the meantime...\n",
        "from IPython.display import display\n",
        "def GeoJSON(data, **kwargs):\n",
        "    bundle = {\n",
        "        'application/geo+json': data,\n",
        "        'text/plain': '<IPython.display.GeoJSON object>'\n",
        "    }\n",
        "    metadata = {\n",
        "        'application/geo+json': kwargs\n",
        "    }\n",
        "    display(bundle, metadata=metadata, raw=True)"
      ],
      "outputs": [],
      "execution_count": 9,
      "metadata": {
        "collapsed": false
      }
    },
    {
      "cell_type": "code",
      "source": [
        "data = {\"type\":\"FeatureCollection\",\"features\":[{\"type\":\"Feature\",\"properties\":{\"place\":\"The coffee bar\",\"login\":\"espresso\",\"lat\":\"38.91427\",\"lon\":\"-77.02827\"},\"geometry\":{\"type\":\"Point\",\"coordinates\":[-77.02827,38.91427]}},{\"type\":\"Feature\",\"properties\":{\"place\":\"Bistro Bohem\",\"login\":\"2027355895\",\"lat\":\"38.91538\",\"lon\":\"-77.02013\"},\"geometry\":{\"type\":\"Point\",\"coordinates\":[-77.02013,38.91538]}},{\"type\":\"Feature\",\"properties\":{\"place\":\"Black Cat\",\"login\":\"luckycat\",\"lat\":\"38.91458\",\"lon\":\"-77.03155\"},\"geometry\":{\"type\":\"Point\",\"coordinates\":[-77.03155,38.91458]}},{\"type\":\"Feature\",\"properties\":{\"place\":\"Snap\",\"login\":\"nutella1\",\"lat\":\"38.92239\",\"lon\":\"-77.04227\"},\"geometry\":{\"type\":\"Point\",\"coordinates\":[-77.04227,38.92239]}},{\"type\":\"Feature\",\"properties\":{\"place\":\"Columbia Heights Coffee\",\"login\":\"FAIRTRADE1\",\"lat\":\"38.93222\",\"lon\":\"-77.02854\"},\"geometry\":{\"type\":\"Point\",\"coordinates\":[-77.02854,38.93222]}},{\"type\":\"Feature\",\"properties\":{\"place\":\"Azi's Cafe\",\"login\":\"sunny\",\"lat\":\"38.90842\",\"lon\":\"-77.02419\"},\"geometry\":{\"type\":\"Point\",\"coordinates\":[-77.02419,38.90842]}},{\"type\":\"Feature\",\"properties\":{\"place\":\"Blind Dog Cafe\",\"login\":\"baxtercantsee\",\"lat\":\"38.91931\",\"lon\":\"-77.02518\"},\"geometry\":{\"type\":\"Point\",\"coordinates\":[-77.02518,38.91931]}},{\"type\":\"Feature\",\"properties\":{\"place\":\"Le Caprice\",\"login\":\"baguette\",\"lat\":\"38.93260\",\"lon\":\"-77.03304\"},\"geometry\":{\"type\":\"Point\",\"coordinates\":[-77.03304,38.9326]}},{\"type\":\"Feature\",\"properties\":{\"place\":\"Filter\",\"login\":\"\",\"lat\":\"38.91368\",\"lon\":\"-77.04509\"},\"geometry\":{\"type\":\"Point\",\"coordinates\":[-77.04509,38.91368]}},{\"type\":\"Feature\",\"properties\":{\"place\":\"Peregrine\",\"login\":\"espresso\",\"lat\":\"38.88516\",\"lon\":\"-76.99656\"},\"geometry\":{\"type\":\"Point\",\"coordinates\":[-76.99656,38.88516]}},{\"type\":\"Feature\",\"properties\":{\"place\":\"Tryst\",\"login\":\"coupetnt\",\"lat\":\"38.921894\",\"lon\":\"-77.042438\"},\"geometry\":{\"type\":\"Point\",\"coordinates\":[-77.042438,38.921894]}},{\"type\":\"Feature\",\"properties\":{\"place\":\"The Coupe\",\"login\":\"voteforus\",\"lat\":\"38.93206\",\"lon\":\"-77.02821\"},\"geometry\":{\"type\":\"Point\",\"coordinates\":[-77.02821,38.93206]}},{\"type\":\"Feature\",\"properties\":{\"place\":\"Big Bear Cafe\",\"login\":\"\",\"lat\":\"38.91275\",\"lon\":\"-77.01239\"},\"geometry\":{\"type\":\"Point\",\"coordinates\":[-77.01239,38.91275]}}]}"
      ],
      "outputs": [],
      "execution_count": 10,
      "metadata": {
        "collapsed": false
      }
    },
    {
      "cell_type": "code",
      "source": [
        "GeoJSON(data)"
      ],
      "outputs": [
        {
          "output_type": "display_data",
          "data": {
            "application/geo+json": {
              "features": [
                {
                  "geometry": {
                    "type": "Point",
                    "coordinates": [
                      -77.02827,
                      38.91427
                    ]
                  },
                  "properties": {
                    "login": "espresso",
                    "place": "The coffee bar",
                    "lon": "-77.02827",
                    "lat": "38.91427"
                  },
                  "type": "Feature"
                },
                {
                  "geometry": {
                    "type": "Point",
                    "coordinates": [
                      -77.02013,
                      38.91538
                    ]
                  },
                  "properties": {
                    "login": "2027355895",
                    "place": "Bistro Bohem",
                    "lon": "-77.02013",
                    "lat": "38.91538"
                  },
                  "type": "Feature"
                },
                {
                  "geometry": {
                    "type": "Point",
                    "coordinates": [
                      -77.03155,
                      38.91458
                    ]
                  },
                  "properties": {
                    "login": "luckycat",
                    "place": "Black Cat",
                    "lon": "-77.03155",
                    "lat": "38.91458"
                  },
                  "type": "Feature"
                },
                {
                  "geometry": {
                    "type": "Point",
                    "coordinates": [
                      -77.04227,
                      38.92239
                    ]
                  },
                  "properties": {
                    "login": "nutella1",
                    "place": "Snap",
                    "lon": "-77.04227",
                    "lat": "38.92239"
                  },
                  "type": "Feature"
                },
                {
                  "geometry": {
                    "type": "Point",
                    "coordinates": [
                      -77.02854,
                      38.93222
                    ]
                  },
                  "properties": {
                    "login": "FAIRTRADE1",
                    "place": "Columbia Heights Coffee",
                    "lon": "-77.02854",
                    "lat": "38.93222"
                  },
                  "type": "Feature"
                },
                {
                  "geometry": {
                    "type": "Point",
                    "coordinates": [
                      -77.02419,
                      38.90842
                    ]
                  },
                  "properties": {
                    "login": "sunny",
                    "place": "Azi's Cafe",
                    "lon": "-77.02419",
                    "lat": "38.90842"
                  },
                  "type": "Feature"
                },
                {
                  "geometry": {
                    "type": "Point",
                    "coordinates": [
                      -77.02518,
                      38.91931
                    ]
                  },
                  "properties": {
                    "login": "baxtercantsee",
                    "place": "Blind Dog Cafe",
                    "lon": "-77.02518",
                    "lat": "38.91931"
                  },
                  "type": "Feature"
                },
                {
                  "geometry": {
                    "type": "Point",
                    "coordinates": [
                      -77.03304,
                      38.9326
                    ]
                  },
                  "properties": {
                    "login": "baguette",
                    "place": "Le Caprice",
                    "lon": "-77.03304",
                    "lat": "38.93260"
                  },
                  "type": "Feature"
                },
                {
                  "geometry": {
                    "type": "Point",
                    "coordinates": [
                      -77.04509,
                      38.91368
                    ]
                  },
                  "properties": {
                    "login": "",
                    "place": "Filter",
                    "lon": "-77.04509",
                    "lat": "38.91368"
                  },
                  "type": "Feature"
                },
                {
                  "geometry": {
                    "type": "Point",
                    "coordinates": [
                      -76.99656,
                      38.88516
                    ]
                  },
                  "properties": {
                    "login": "espresso",
                    "place": "Peregrine",
                    "lon": "-76.99656",
                    "lat": "38.88516"
                  },
                  "type": "Feature"
                },
                {
                  "geometry": {
                    "type": "Point",
                    "coordinates": [
                      -77.042438,
                      38.921894
                    ]
                  },
                  "properties": {
                    "login": "coupetnt",
                    "place": "Tryst",
                    "lon": "-77.042438",
                    "lat": "38.921894"
                  },
                  "type": "Feature"
                },
                {
                  "geometry": {
                    "type": "Point",
                    "coordinates": [
                      -77.02821,
                      38.93206
                    ]
                  },
                  "properties": {
                    "login": "voteforus",
                    "place": "The Coupe",
                    "lon": "-77.02821",
                    "lat": "38.93206"
                  },
                  "type": "Feature"
                },
                {
                  "geometry": {
                    "type": "Point",
                    "coordinates": [
                      -77.01239,
                      38.91275
                    ]
                  },
                  "properties": {
                    "login": "",
                    "place": "Big Bear Cafe",
                    "lon": "-77.01239",
                    "lat": "38.91275"
                  },
                  "type": "Feature"
                }
              ],
              "type": "FeatureCollection"
            },
            "text/plain": [
              "<IPython.display.GeoJSON object>"
            ]
          },
          "metadata": {
            "application/geo+json": {}
          }
        }
      ],
      "execution_count": 11,
      "metadata": {
        "collapsed": false
      }
    },
    {
      "cell_type": "code",
      "source": [
        "GeoJSON(data={\n",
        "    \"type\": \"Feature\",\n",
        "    \"geometry\": {\n",
        "        \"type\": \"Point\",\n",
        "        \"coordinates\": [11.8, -45.04]\n",
        "    }\n",
        "}, url_template=\"http://s3-eu-west-1.amazonaws.com/whereonmars.cartodb.net/{basemap_id}/{z}/{x}/{y}.png\", \n",
        "layer_options={\n",
        "    \"basemap_id\": \"mola-color\",\n",
        "    \"attribution\" : \"NASA/MOLA\",\n",
        "    \"tms\": True,\n",
        "    \"minZoom\" : 0,\n",
        "    \"maxZoom\" : 6\n",
        "})"
      ],
      "outputs": [
        {
          "output_type": "display_data",
          "data": {
            "application/geo+json": {
              "geometry": {
                "type": "Point",
                "coordinates": [
                  11.8,
                  -45.04
                ]
              },
              "type": "Feature"
            },
            "text/plain": [
              "<IPython.display.GeoJSON object>"
            ]
          },
          "metadata": {
            "application/geo+json": {
              "url_template": "http://s3-eu-west-1.amazonaws.com/whereonmars.cartodb.net/{basemap_id}/{z}/{x}/{y}.png",
              "layer_options": {
                "basemap_id": "mola-color",
                "attribution": "NASA/MOLA",
                "tms": true,
                "maxZoom": 6,
                "minZoom": 0
              }
            }
          }
        }
      ],
      "execution_count": 8,
      "metadata": {}
    },
    {
      "cell_type": "code",
      "source": [],
      "outputs": [],
      "execution_count": null,
      "metadata": {}
    }
  ],
  "metadata": {
    "kernel_info": {
      "name": "python3"
    },
    "kernelspec": {
      "name": "python3",
      "language": "python",
      "display_name": "Python 3"
    },
    "language_info": {
      "mimetype": "text/x-python",
      "pygments_lexer": "ipython3",
      "nbconvert_exporter": "python",
      "codemirror_mode": {
        "version": 3,
        "name": "ipython"
      },
      "version": "3.5.2",
      "name": "python",
      "file_extension": ".py"
    }
  },
  "nbformat": 4,
  "nbformat_minor": 1
}